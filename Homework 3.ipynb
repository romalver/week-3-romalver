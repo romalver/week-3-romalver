{
 "cells": [
  {
   "cell_type": "code",
   "execution_count": null,
   "metadata": {},
   "outputs": [],
   "source": [
    "## Q1. Code Question\n",
    "\n",
    "Write a function that takes three integers between 1 and 10, for each integer `i`, print `i` and `i` times of pond sign (`#`) in a separate line.\n",
    "\n",
    "Expected outcome - for example input (1, 3, 5):\n",
    "\n",
    "```\n",
    "1: #\n",
    "3: ###\n",
    "5: #####\n",
    "```\n",
    "\n",
    "Use the code block below to complete your code.\n",
    "\n",
    "__HINT__:\n",
    "1. `random.randint()` can be helpful.\n",
    "2. Consider whether this function is fruitful or void."
   ]
  },
  {
   "cell_type": "code",
   "execution_count": 37,
   "metadata": {},
   "outputs": [
    {
     "name": "stdout",
     "output_type": "stream",
     "text": [
      "2 : ##\n",
      "9 : #########\n",
      "6 : ######\n"
     ]
    }
   ],
   "source": [
    "#ANSWER\n",
    "#print \"#\" output\n",
    "#given i - input\n",
    "\n",
    "#import random\n",
    "import random\n",
    "\n",
    "\n",
    "\n",
    "def numeral_printer():\n",
    "    i1 = random.randint(1,10)\n",
    "    i2 = random.randint(1,10)\n",
    "    i3 = random.randint(1,10)\n",
    "    print(str(i1), \":\", i1 * \"#\")\n",
    "    print(str(i2), \":\", i2 * \"#\")\n",
    "    print(str(i3),\":\",i3 * \"#\")\n",
    "\n",
    "numeral_printer()"
   ]
  },
  {
   "cell_type": "code",
   "execution_count": null,
   "metadata": {},
   "outputs": [],
   "source": [
    "## Q2. Code Question\n",
    "\n",
    "Write a function takes three random integers (`i`, `lower`, `upper`) between 1 and 100:\n",
    "- The first integer is the number in question (`i`);\n",
    "- The second and third integers are the lower and upper boundaries of a range, respectively (`lower`, `upper`).\n",
    "\n",
    "Output: \n",
    "- If `i` is in range of (`lower`, `upper`), including `lower` and `upper`, output `'in range'`;\n",
    "- Otherwise, output `'out of range'`.\n",
    "\n",
    "Example input and output:\n",
    "```\n",
    "(4, 1, 100) --> 'in range'\n",
    "(1, 5, 20) --> 'out of range'\n",
    "```\n",
    "\n",
    "Use the code block below to complete your code."
   ]
  },
  {
   "cell_type": "code",
   "execution_count": 49,
   "metadata": {},
   "outputs": [
    {
     "name": "stdout",
     "output_type": "stream",
     "text": [
      "24 59 89\n",
      "out of range\n"
     ]
    }
   ],
   "source": [
    "#ANSWER\n",
    "i = random.randint(1,100)\n",
    "lower = random.randint(1,100)\n",
    "upper = random.randint(1,100)\n",
    "\n",
    "def in_or_out():\n",
    "    i = random.randint(1,100)\n",
    "    lower = random.randint(1,100)\n",
    "    upper = random.randint(1,100)\n",
    "    \n",
    "    if lower > upper:\n",
    "        temp = upper\n",
    "        upper = lower\n",
    "        lower = temp\n",
    "    print(i, lower, upper)\n",
    "    if i < upper and i > lower:\n",
    "        print('in range')\n",
    "    else:\n",
    "        print('out of range')\n",
    "        \n",
    "in_or_out()"
   ]
  },
  {
   "cell_type": "code",
   "execution_count": null,
   "metadata": {},
   "outputs": [],
   "source": [
    "## Q3. Code Question\n",
    "\n",
    "Suppose two players (A, B) play a game of dice. Each player has a regular 6-sided dice (1 - 6). \n",
    "\n",
    "In each round, the player with larger number on the dice wins - the results is the winning player (A or B); if tied, then\n",
    "the result is 'tied'.\n",
    "\n",
    "The game has ten (10) rounds, write a function to record the results of the game.\n",
    "\n",
    "Example:\n",
    "If A rolls a 6 and B rolls a 4 in a round, output is 'A';\n",
    "If A rolls a 3 and B rools a 3 in a round, output is 'tied'.\n",
    "\n",
    "\n",
    "Use the code block below to complete your code."
   ]
  },
  {
   "cell_type": "code",
   "execution_count": 57,
   "metadata": {},
   "outputs": [
    {
     "name": "stdout",
     "output_type": "stream",
     "text": [
      "A: 6  B: 2\n",
      "A Wins this round!\n",
      "Score is A: 1 B: 0\n",
      "A: 4  B: 4\n",
      "Tie Match!\n",
      "A: 2  B: 2\n",
      "Tie Match!\n",
      "A: 1  B: 6\n",
      "B Wins this round!\n",
      "Score is A: 1 B: 1\n",
      "A: 6  B: 5\n",
      "A Wins this round!\n",
      "Score is A: 2 B: 1\n",
      "A: 4  B: 4\n",
      "Tie Match!\n",
      "A: 3  B: 4\n",
      "B Wins this round!\n",
      "Score is A: 2 B: 2\n",
      "A: 2  B: 4\n",
      "B Wins this round!\n",
      "Score is A: 2 B: 3\n",
      "A: 3  B: 4\n",
      "B Wins this round!\n",
      "Score is A: 2 B: 4\n",
      "A: 4  B: 4\n",
      "Tie Match!\n",
      "A: 2  B: 4\n",
      "B Wins this round!\n",
      "Score is A: 2 B: 5\n",
      "A: 2  B: 1\n",
      "A Wins this round!\n",
      "Score is A: 3 B: 5\n",
      "A: 3  B: 6\n",
      "B Wins this round!\n",
      "Score is A: 3 B: 6\n",
      "A: 1  B: 2\n",
      "B Wins this round!\n",
      "Score is A: 3 B: 7\n",
      "B Wins the Game\n"
     ]
    }
   ],
   "source": [
    "import random\n",
    "\n",
    "\n",
    "\n",
    "x=0\n",
    "A_Wins = 0\n",
    "B_Wins = 0\n",
    "\n",
    "while x < 10:\n",
    "    A = random.randint(1,6)\n",
    "    B = random.randint(1,6)\n",
    "    x+=1\n",
    "    if A > B:\n",
    "        print(\"A:\", A, \" B:\", B)\n",
    "        print(\"A Wins this round!\")\n",
    "        A_Wins +=1\n",
    "        print(\"Score is A:\",A_Wins, \"B:\", B_Wins)\n",
    "    elif B > A:\n",
    "        print(\"A:\", A, \" B:\", B)\n",
    "        print(\"B Wins this round!\")\n",
    "        B_Wins +=1\n",
    "        print(\"Score is A:\",A_Wins, \"B:\", B_Wins)\n",
    "    else:\n",
    "        print(\"A:\", A, \" B:\", B)\n",
    "        print(\"Tie Match!\")\n",
    "        x-=1\n",
    "\n",
    "if A_Wins > B_Wins:\n",
    "    print(\"A Wins the Game\")\n",
    "elif B_Wins > A_Wins:\n",
    "    print(\"B Wins the Game\")"
   ]
  },
  {
   "cell_type": "code",
   "execution_count": null,
   "metadata": {},
   "outputs": [],
   "source": []
  }
 ],
 "metadata": {
  "kernelspec": {
   "display_name": "Python 3",
   "language": "python",
   "name": "python3"
  },
  "language_info": {
   "codemirror_mode": {
    "name": "ipython",
    "version": 3
   },
   "file_extension": ".py",
   "mimetype": "text/x-python",
   "name": "python",
   "nbconvert_exporter": "python",
   "pygments_lexer": "ipython3",
   "version": "3.6.7"
  }
 },
 "nbformat": 4,
 "nbformat_minor": 2
}
